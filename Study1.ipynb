{
 "cells": [
  {
   "cell_type": "code",
   "execution_count": 1,
   "metadata": {},
   "outputs": [],
   "source": [
    "#Importando bibliotecas\n",
    "import pandas as pd\n",
    "import numpy as np"
   ]
  },
  {
   "cell_type": "code",
   "execution_count": 61,
   "metadata": {},
   "outputs": [
    {
     "name": "stdout",
     "output_type": "stream",
     "text": [
      "<class 'pandas.core.frame.DataFrame'>\n"
     ]
    }
   ],
   "source": [
    "#Leitura do arquivo .CSV\n",
    "df = pd.read_csv('Lemonade2016.csv')\n",
    "print(type(df))"
   ]
  },
  {
   "cell_type": "code",
   "execution_count": 15,
   "metadata": {},
   "outputs": [
    {
     "name": "stdout",
     "output_type": "stream",
     "text": [
      "       Date Location  Lemon  Orange  Temperature  Leaflets  Price\n",
      "0  7/1/2016     Park     97      67           70      90.0   0.25\n",
      "1  7/2/2016     Park     98      67           72      90.0   0.25\n",
      "2  7/3/2016     Park    110      77           71     104.0   0.25\n",
      "3  7/4/2016    Beach    134      99           76      98.0   0.25\n",
      "4  7/5/2016    Beach    159     118           78     135.0   0.25\n",
      "linhas =  32\n",
      "colunas =  7\n",
      "2\n",
      "Date            object\n",
      "Location        object\n",
      "Lemon            int64\n",
      "Orange           int64\n",
      "Temperature      int64\n",
      "Leaflets       float64\n",
      "Price          float64\n",
      "dtype: object\n"
     ]
    }
   ],
   "source": [
    "#Visualização dos dados e dimensoes\n",
    "print(df.head())\n",
    "print('linhas = ', df.shape[0])\n",
    "print('colunas = ', df.shape[1])\n",
    "print(df.ndim)\n",
    "print(df.dtypes)"
   ]
  },
  {
   "cell_type": "code",
   "execution_count": 49,
   "metadata": {},
   "outputs": [
    {
     "name": "stdout",
     "output_type": "stream",
     "text": [
      "         Date Location  Lemon  Orange  Temperature  Leaflets  Price\n",
      "8         NaN    Beach    123      86           82     113.0   0.25\n",
      "20  7/20/2016     Park     71      42           70       NaN   0.50\n"
     ]
    }
   ],
   "source": [
    "#Verificação de dados nulos\n",
    "print(df[df.isnull().any(axis = 1)])"
   ]
  },
  {
   "cell_type": "code",
   "execution_count": 58,
   "metadata": {},
   "outputs": [
    {
     "name": "stdout",
     "output_type": "stream",
     "text": [
      "       Date Location  Lemon  Orange  Temperature  Leaflets  Price\n",
      "6  7/6/2016    Beach    103      69           82      90.0   0.25\n"
     ]
    }
   ],
   "source": [
    "#Print das rows duplicadas\n",
    "print(df[df.duplicated()])"
   ]
  },
  {
   "cell_type": "code",
   "execution_count": 63,
   "metadata": {},
   "outputs": [
    {
     "name": "stdout",
     "output_type": "stream",
     "text": [
      "Duplicados removidos\n"
     ]
    }
   ],
   "source": [
    "#Remoção de duplicados\n",
    "df.drop_duplicates()\n",
    "print('Duplicados removidos')"
   ]
  },
  {
   "cell_type": "code",
   "execution_count": null,
   "metadata": {},
   "outputs": [],
   "source": []
  }
 ],
 "metadata": {
  "kernelspec": {
   "display_name": "Python 3",
   "language": "python",
   "name": "python3"
  },
  "language_info": {
   "codemirror_mode": {
    "name": "ipython",
    "version": 3
   },
   "file_extension": ".py",
   "mimetype": "text/x-python",
   "name": "python",
   "nbconvert_exporter": "python",
   "pygments_lexer": "ipython3",
   "version": "3.7.1"
  }
 },
 "nbformat": 4,
 "nbformat_minor": 2
}
